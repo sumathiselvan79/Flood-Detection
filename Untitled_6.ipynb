{
  "cells": [
    {
      "cell_type": "code",
      "execution_count": null,
      "metadata": {
        "id": "jWqFxEhygqk9"
      },
      "outputs": [],
      "source": [
        "#import library packages\n",
        "import pandas as p\n",
        "import matplotlib.pyplot as plt\n",
        "import numpy as n\n",
        "import seaborn as sns"
      ]
    },
    {
      "cell_type": "code",
      "execution_count": null,
      "metadata": {
        "id": "nWK8wvqMgqlB"
      },
      "outputs": [],
      "source": [
        "data = p.read_csv(\"demo.csv\")"
      ]
    },
    {
      "cell_type": "code",
      "execution_count": null,
      "metadata": {
        "id": "oZbsXfZfgqlC"
      },
      "outputs": [],
      "source": [
        "import warnings\n",
        "warnings.filterwarnings('ignore')"
      ]
    },
    {
      "cell_type": "code",
      "execution_count": null,
      "metadata": {
        "id": "6gVyI0xugqlE",
        "outputId": "97069a61-adff-4c04-b1ae-7d9e4f073b29"
      },
      "outputs": [
        {
          "data": {
            "text/html": [
              "<div>\n",
              "<style scoped>\n",
              "    .dataframe tbody tr th:only-of-type {\n",
              "        vertical-align: middle;\n",
              "    }\n",
              "\n",
              "    .dataframe tbody tr th {\n",
              "        vertical-align: top;\n",
              "    }\n",
              "\n",
              "    .dataframe thead th {\n",
              "        text-align: right;\n",
              "    }\n",
              "</style>\n",
              "<table border=\"1\" class=\"dataframe\">\n",
              "  <thead>\n",
              "    <tr style=\"text-align: right;\">\n",
              "      <th></th>\n",
              "      <th>Unnamed: 0</th>\n",
              "      <th>STATE_UT_NAME</th>\n",
              "      <th>JAN</th>\n",
              "      <th>FEB</th>\n",
              "      <th>MAR</th>\n",
              "      <th>APR</th>\n",
              "      <th>MAY</th>\n",
              "      <th>JUN</th>\n",
              "      <th>JUL</th>\n",
              "      <th>AUG</th>\n",
              "      <th>...</th>\n",
              "      <th>NOV</th>\n",
              "      <th>DEC</th>\n",
              "      <th>ANNUAL</th>\n",
              "      <th>Jan-Feb</th>\n",
              "      <th>Mar-May</th>\n",
              "      <th>Jun-Sep</th>\n",
              "      <th>Oct-Dec</th>\n",
              "      <th>flood</th>\n",
              "      <th>Avg_june10days</th>\n",
              "      <th>maytojune</th>\n",
              "    </tr>\n",
              "  </thead>\n",
              "  <tbody>\n",
              "    <tr>\n",
              "      <th>0</th>\n",
              "      <td>0</td>\n",
              "      <td>ANDAMAN And NICOBAR ISLANDS</td>\n",
              "      <td>107.3</td>\n",
              "      <td>57.9</td>\n",
              "      <td>65.2</td>\n",
              "      <td>117.0</td>\n",
              "      <td>358.5</td>\n",
              "      <td>295.5</td>\n",
              "      <td>285.0</td>\n",
              "      <td>271.9</td>\n",
              "      <td>...</td>\n",
              "      <td>315.2</td>\n",
              "      <td>250.9</td>\n",
              "      <td>2805.2</td>\n",
              "      <td>165.2</td>\n",
              "      <td>540.7</td>\n",
              "      <td>1207.2</td>\n",
              "      <td>892.1</td>\n",
              "      <td>0</td>\n",
              "      <td>98.500000</td>\n",
              "      <td>63.0</td>\n",
              "    </tr>\n",
              "    <tr>\n",
              "      <th>1</th>\n",
              "      <td>1</td>\n",
              "      <td>ANDAMAN And NICOBAR ISLANDS</td>\n",
              "      <td>43.7</td>\n",
              "      <td>26.0</td>\n",
              "      <td>18.6</td>\n",
              "      <td>90.5</td>\n",
              "      <td>374.4</td>\n",
              "      <td>457.2</td>\n",
              "      <td>421.3</td>\n",
              "      <td>423.1</td>\n",
              "      <td>...</td>\n",
              "      <td>275.8</td>\n",
              "      <td>128.3</td>\n",
              "      <td>3015.7</td>\n",
              "      <td>69.7</td>\n",
              "      <td>483.5</td>\n",
              "      <td>1757.2</td>\n",
              "      <td>705.3</td>\n",
              "      <td>0</td>\n",
              "      <td>152.400000</td>\n",
              "      <td>82.8</td>\n",
              "    </tr>\n",
              "    <tr>\n",
              "      <th>2</th>\n",
              "      <td>2</td>\n",
              "      <td>ANDAMAN And NICOBAR ISLANDS</td>\n",
              "      <td>32.7</td>\n",
              "      <td>15.9</td>\n",
              "      <td>8.6</td>\n",
              "      <td>53.4</td>\n",
              "      <td>343.6</td>\n",
              "      <td>503.3</td>\n",
              "      <td>465.4</td>\n",
              "      <td>460.9</td>\n",
              "      <td>...</td>\n",
              "      <td>198.6</td>\n",
              "      <td>100.0</td>\n",
              "      <td>2913.3</td>\n",
              "      <td>48.6</td>\n",
              "      <td>405.6</td>\n",
              "      <td>1884.4</td>\n",
              "      <td>574.7</td>\n",
              "      <td>0</td>\n",
              "      <td>167.766667</td>\n",
              "      <td>159.7</td>\n",
              "    </tr>\n",
              "    <tr>\n",
              "      <th>3</th>\n",
              "      <td>3</td>\n",
              "      <td>ARUNACHAL PRADESH</td>\n",
              "      <td>42.2</td>\n",
              "      <td>80.8</td>\n",
              "      <td>176.4</td>\n",
              "      <td>358.5</td>\n",
              "      <td>306.4</td>\n",
              "      <td>447.0</td>\n",
              "      <td>660.1</td>\n",
              "      <td>427.8</td>\n",
              "      <td>...</td>\n",
              "      <td>34.1</td>\n",
              "      <td>29.8</td>\n",
              "      <td>3043.8</td>\n",
              "      <td>123.0</td>\n",
              "      <td>841.3</td>\n",
              "      <td>1848.5</td>\n",
              "      <td>231.0</td>\n",
              "      <td>0</td>\n",
              "      <td>149.000000</td>\n",
              "      <td>140.6</td>\n",
              "    </tr>\n",
              "    <tr>\n",
              "      <th>4</th>\n",
              "      <td>4</td>\n",
              "      <td>ARUNACHAL PRADESH</td>\n",
              "      <td>33.3</td>\n",
              "      <td>79.5</td>\n",
              "      <td>105.9</td>\n",
              "      <td>216.5</td>\n",
              "      <td>323.0</td>\n",
              "      <td>738.3</td>\n",
              "      <td>990.9</td>\n",
              "      <td>711.2</td>\n",
              "      <td>...</td>\n",
              "      <td>29.5</td>\n",
              "      <td>31.7</td>\n",
              "      <td>4034.7</td>\n",
              "      <td>112.8</td>\n",
              "      <td>645.4</td>\n",
              "      <td>3008.4</td>\n",
              "      <td>268.1</td>\n",
              "      <td>1</td>\n",
              "      <td>246.100000</td>\n",
              "      <td>415.3</td>\n",
              "    </tr>\n",
              "  </tbody>\n",
              "</table>\n",
              "<p>5 rows × 22 columns</p>\n",
              "</div>"
            ],
            "text/plain": [
              "   Unnamed: 0                STATE_UT_NAME    JAN   FEB    MAR    APR    MAY  \\\n",
              "0           0  ANDAMAN And NICOBAR ISLANDS  107.3  57.9   65.2  117.0  358.5   \n",
              "1           1  ANDAMAN And NICOBAR ISLANDS   43.7  26.0   18.6   90.5  374.4   \n",
              "2           2  ANDAMAN And NICOBAR ISLANDS   32.7  15.9    8.6   53.4  343.6   \n",
              "3           3            ARUNACHAL PRADESH   42.2  80.8  176.4  358.5  306.4   \n",
              "4           4            ARUNACHAL PRADESH   33.3  79.5  105.9  216.5  323.0   \n",
              "\n",
              "     JUN    JUL    AUG  ...    NOV    DEC  ANNUAL  Jan-Feb  Mar-May  Jun-Sep  \\\n",
              "0  295.5  285.0  271.9  ...  315.2  250.9  2805.2    165.2    540.7   1207.2   \n",
              "1  457.2  421.3  423.1  ...  275.8  128.3  3015.7     69.7    483.5   1757.2   \n",
              "2  503.3  465.4  460.9  ...  198.6  100.0  2913.3     48.6    405.6   1884.4   \n",
              "3  447.0  660.1  427.8  ...   34.1   29.8  3043.8    123.0    841.3   1848.5   \n",
              "4  738.3  990.9  711.2  ...   29.5   31.7  4034.7    112.8    645.4   3008.4   \n",
              "\n",
              "   Oct-Dec  flood  Avg_june10days  maytojune  \n",
              "0    892.1      0       98.500000       63.0  \n",
              "1    705.3      0      152.400000       82.8  \n",
              "2    574.7      0      167.766667      159.7  \n",
              "3    231.0      0      149.000000      140.6  \n",
              "4    268.1      1      246.100000      415.3  \n",
              "\n",
              "[5 rows x 22 columns]"
            ]
          },
          "execution_count": 4,
          "metadata": {},
          "output_type": "execute_result"
        }
      ],
      "source": [
        "data.head(5)"
      ]
    },
    {
      "cell_type": "code",
      "execution_count": null,
      "metadata": {
        "id": "pNddlMuGgqlG",
        "outputId": "0ff67b67-c365-47a3-d4a5-26c440b8650e"
      },
      "outputs": [
        {
          "data": {
            "text/html": [
              "<div>\n",
              "<style scoped>\n",
              "    .dataframe tbody tr th:only-of-type {\n",
              "        vertical-align: middle;\n",
              "    }\n",
              "\n",
              "    .dataframe tbody tr th {\n",
              "        vertical-align: top;\n",
              "    }\n",
              "\n",
              "    .dataframe thead th {\n",
              "        text-align: right;\n",
              "    }\n",
              "</style>\n",
              "<table border=\"1\" class=\"dataframe\">\n",
              "  <thead>\n",
              "    <tr style=\"text-align: right;\">\n",
              "      <th></th>\n",
              "      <th>Unnamed: 0</th>\n",
              "      <th>STATE_UT_NAME</th>\n",
              "      <th>JAN</th>\n",
              "      <th>FEB</th>\n",
              "      <th>MAR</th>\n",
              "      <th>APR</th>\n",
              "      <th>MAY</th>\n",
              "      <th>JUN</th>\n",
              "      <th>JUL</th>\n",
              "      <th>AUG</th>\n",
              "      <th>...</th>\n",
              "      <th>NOV</th>\n",
              "      <th>DEC</th>\n",
              "      <th>ANNUAL</th>\n",
              "      <th>Jan-Feb</th>\n",
              "      <th>Mar-May</th>\n",
              "      <th>Jun-Sep</th>\n",
              "      <th>Oct-Dec</th>\n",
              "      <th>flood</th>\n",
              "      <th>Avg_june10days</th>\n",
              "      <th>maytojune</th>\n",
              "    </tr>\n",
              "  </thead>\n",
              "  <tbody>\n",
              "    <tr>\n",
              "      <th>636</th>\n",
              "      <td>636</td>\n",
              "      <td>KERALA</td>\n",
              "      <td>13.4</td>\n",
              "      <td>22.1</td>\n",
              "      <td>43.6</td>\n",
              "      <td>150.4</td>\n",
              "      <td>232.6</td>\n",
              "      <td>651.6</td>\n",
              "      <td>788.9</td>\n",
              "      <td>527.3</td>\n",
              "      <td>...</td>\n",
              "      <td>172.9</td>\n",
              "      <td>48.1</td>\n",
              "      <td>3302.5</td>\n",
              "      <td>35.5</td>\n",
              "      <td>426.6</td>\n",
              "      <td>2276.2</td>\n",
              "      <td>564.2</td>\n",
              "      <td>0</td>\n",
              "      <td>217.200000</td>\n",
              "      <td>419.0</td>\n",
              "    </tr>\n",
              "    <tr>\n",
              "      <th>637</th>\n",
              "      <td>637</td>\n",
              "      <td>KERALA</td>\n",
              "      <td>2.3</td>\n",
              "      <td>1.0</td>\n",
              "      <td>8.4</td>\n",
              "      <td>46.9</td>\n",
              "      <td>217.6</td>\n",
              "      <td>999.6</td>\n",
              "      <td>1108.5</td>\n",
              "      <td>636.3</td>\n",
              "      <td>...</td>\n",
              "      <td>84.6</td>\n",
              "      <td>18.4</td>\n",
              "      <td>3621.6</td>\n",
              "      <td>3.3</td>\n",
              "      <td>272.9</td>\n",
              "      <td>3007.5</td>\n",
              "      <td>337.9</td>\n",
              "      <td>1</td>\n",
              "      <td>333.200000</td>\n",
              "      <td>782.0</td>\n",
              "    </tr>\n",
              "    <tr>\n",
              "      <th>638</th>\n",
              "      <td>638</td>\n",
              "      <td>KERALA</td>\n",
              "      <td>19.8</td>\n",
              "      <td>45.2</td>\n",
              "      <td>73.9</td>\n",
              "      <td>184.9</td>\n",
              "      <td>294.7</td>\n",
              "      <td>556.9</td>\n",
              "      <td>539.9</td>\n",
              "      <td>352.7</td>\n",
              "      <td>...</td>\n",
              "      <td>213.5</td>\n",
              "      <td>51.3</td>\n",
              "      <td>2958.4</td>\n",
              "      <td>65.0</td>\n",
              "      <td>553.5</td>\n",
              "      <td>1715.7</td>\n",
              "      <td>624.2</td>\n",
              "      <td>0</td>\n",
              "      <td>185.633333</td>\n",
              "      <td>262.2</td>\n",
              "    </tr>\n",
              "    <tr>\n",
              "      <th>639</th>\n",
              "      <td>639</td>\n",
              "      <td>KERALA</td>\n",
              "      <td>4.8</td>\n",
              "      <td>8.3</td>\n",
              "      <td>17.5</td>\n",
              "      <td>83.3</td>\n",
              "      <td>174.6</td>\n",
              "      <td>698.1</td>\n",
              "      <td>1110.4</td>\n",
              "      <td>592.9</td>\n",
              "      <td>...</td>\n",
              "      <td>93.6</td>\n",
              "      <td>25.8</td>\n",
              "      <td>3253.1</td>\n",
              "      <td>13.1</td>\n",
              "      <td>275.4</td>\n",
              "      <td>2632.1</td>\n",
              "      <td>332.5</td>\n",
              "      <td>1</td>\n",
              "      <td>232.700000</td>\n",
              "      <td>523.5</td>\n",
              "    </tr>\n",
              "    <tr>\n",
              "      <th>640</th>\n",
              "      <td>640</td>\n",
              "      <td>LAKSHADWEEP</td>\n",
              "      <td>20.8</td>\n",
              "      <td>14.7</td>\n",
              "      <td>11.8</td>\n",
              "      <td>48.9</td>\n",
              "      <td>171.7</td>\n",
              "      <td>330.2</td>\n",
              "      <td>287.7</td>\n",
              "      <td>217.5</td>\n",
              "      <td>...</td>\n",
              "      <td>117.7</td>\n",
              "      <td>58.8</td>\n",
              "      <td>1600.0</td>\n",
              "      <td>35.5</td>\n",
              "      <td>232.4</td>\n",
              "      <td>998.5</td>\n",
              "      <td>333.6</td>\n",
              "      <td>0</td>\n",
              "      <td>110.066667</td>\n",
              "      <td>158.5</td>\n",
              "    </tr>\n",
              "  </tbody>\n",
              "</table>\n",
              "<p>5 rows × 22 columns</p>\n",
              "</div>"
            ],
            "text/plain": [
              "     Unnamed: 0 STATE_UT_NAME   JAN   FEB   MAR    APR    MAY    JUN     JUL  \\\n",
              "636         636        KERALA  13.4  22.1  43.6  150.4  232.6  651.6   788.9   \n",
              "637         637        KERALA   2.3   1.0   8.4   46.9  217.6  999.6  1108.5   \n",
              "638         638        KERALA  19.8  45.2  73.9  184.9  294.7  556.9   539.9   \n",
              "639         639        KERALA   4.8   8.3  17.5   83.3  174.6  698.1  1110.4   \n",
              "640         640   LAKSHADWEEP  20.8  14.7  11.8   48.9  171.7  330.2   287.7   \n",
              "\n",
              "       AUG  ...    NOV   DEC  ANNUAL  Jan-Feb  Mar-May  Jun-Sep  Oct-Dec  \\\n",
              "636  527.3  ...  172.9  48.1  3302.5     35.5    426.6   2276.2    564.2   \n",
              "637  636.3  ...   84.6  18.4  3621.6      3.3    272.9   3007.5    337.9   \n",
              "638  352.7  ...  213.5  51.3  2958.4     65.0    553.5   1715.7    624.2   \n",
              "639  592.9  ...   93.6  25.8  3253.1     13.1    275.4   2632.1    332.5   \n",
              "640  217.5  ...  117.7  58.8  1600.0     35.5    232.4    998.5    333.6   \n",
              "\n",
              "     flood  Avg_june10days  maytojune  \n",
              "636      0      217.200000      419.0  \n",
              "637      1      333.200000      782.0  \n",
              "638      0      185.633333      262.2  \n",
              "639      1      232.700000      523.5  \n",
              "640      0      110.066667      158.5  \n",
              "\n",
              "[5 rows x 22 columns]"
            ]
          },
          "execution_count": 5,
          "metadata": {},
          "output_type": "execute_result"
        }
      ],
      "source": [
        "data.tail()"
      ]
    },
    {
      "cell_type": "code",
      "execution_count": null,
      "metadata": {
        "id": "w8sbkkYVgqlI",
        "outputId": "b0db3241-0087-493a-92fc-724be77abbc4"
      },
      "outputs": [
        {
          "data": {
            "text/plain": [
              "1    376\n",
              "0    265\n",
              "Name: flood, dtype: int64"
            ]
          },
          "execution_count": 6,
          "metadata": {},
          "output_type": "execute_result"
        }
      ],
      "source": [
        "data[\"flood\"].value_counts()"
      ]
    },
    {
      "cell_type": "code",
      "execution_count": null,
      "metadata": {
        "id": "NbOm5Bm3gqlJ",
        "outputId": "5247b79f-e0b2-434e-929b-eb87170a506a"
      },
      "outputs": [
        {
          "data": {
            "text/plain": [
              "Unnamed: 0        0\n",
              "STATE_UT_NAME     0\n",
              "JAN               0\n",
              "FEB               0\n",
              "MAR               0\n",
              "APR               0\n",
              "MAY               0\n",
              "JUN               0\n",
              "JUL               0\n",
              "AUG               0\n",
              "SEP               0\n",
              "OCT               0\n",
              "NOV               0\n",
              "DEC               0\n",
              "ANNUAL            0\n",
              "Jan-Feb           0\n",
              "Mar-May           0\n",
              "Jun-Sep           0\n",
              "Oct-Dec           0\n",
              "flood             0\n",
              "Avg_june10days    0\n",
              "maytojune         0\n",
              "dtype: int64"
            ]
          },
          "execution_count": 7,
          "metadata": {},
          "output_type": "execute_result"
        }
      ],
      "source": [
        "data.isnull().sum()"
      ]
    },
    {
      "cell_type": "code",
      "execution_count": null,
      "metadata": {
        "id": "vhBCiAcXgqlL",
        "outputId": "062abed0-1a92-45ee-a06f-cde4615760b3"
      },
      "outputs": [
        {
          "data": {
            "text/plain": [
              "0"
            ]
          },
          "execution_count": 8,
          "metadata": {},
          "output_type": "execute_result"
        }
      ],
      "source": [
        "data.duplicated().sum()"
      ]
    },
    {
      "cell_type": "code",
      "execution_count": null,
      "metadata": {
        "id": "A3M1d45CgqlN",
        "outputId": "58b6407f-d488-465b-9bdf-1766f004c479"
      },
      "outputs": [
        {
          "data": {
            "text/plain": [
              "Index(['Unnamed: 0', 'STATE_UT_NAME', 'JAN', 'FEB', 'MAR', 'APR', 'MAY', 'JUN',\n",
              "       'JUL', 'AUG', 'SEP', 'OCT', 'NOV', 'DEC', 'ANNUAL', 'Jan-Feb',\n",
              "       'Mar-May', 'Jun-Sep', 'Oct-Dec', 'flood', 'Avg_june10days',\n",
              "       'maytojune'],\n",
              "      dtype='object')"
            ]
          },
          "execution_count": 9,
          "metadata": {},
          "output_type": "execute_result"
        }
      ],
      "source": [
        "data.columns"
      ]
    },
    {
      "cell_type": "code",
      "execution_count": null,
      "metadata": {
        "id": "M_RZ8auNgqlO",
        "outputId": "e38a5aa1-8d4b-4f8b-e739-aad506551e00"
      },
      "outputs": [
        {
          "data": {
            "text/plain": [
              "(641, 22)"
            ]
          },
          "execution_count": 10,
          "metadata": {},
          "output_type": "execute_result"
        }
      ],
      "source": [
        "data.shape"
      ]
    },
    {
      "cell_type": "code",
      "execution_count": null,
      "metadata": {
        "id": "_X-6nQaYgqlP"
      },
      "outputs": [],
      "source": [
        "del data['JAN']\n",
        "del data['Unnamed: 0']\n",
        "del data['FEB']\n",
        "del data['MAR']\n",
        "del data['APR']\n",
        "del data['MAY']\n",
        "del data['JUN']\n",
        "del data['JUL']\n",
        "del data['AUG']\n",
        "del data['SEP']\n",
        "del data['OCT']\n",
        "del data['NOV']\n",
        "del data['DEC']\n",
        "del data['Avg_june10days']\n",
        "del data['maytojune']"
      ]
    },
    {
      "cell_type": "code",
      "execution_count": null,
      "metadata": {
        "id": "ugNlfPZbgqlQ",
        "outputId": "ea135a3f-9f07-4b90-f819-df46b475209e"
      },
      "outputs": [
        {
          "data": {
            "text/html": [
              "<div>\n",
              "<style scoped>\n",
              "    .dataframe tbody tr th:only-of-type {\n",
              "        vertical-align: middle;\n",
              "    }\n",
              "\n",
              "    .dataframe tbody tr th {\n",
              "        vertical-align: top;\n",
              "    }\n",
              "\n",
              "    .dataframe thead th {\n",
              "        text-align: right;\n",
              "    }\n",
              "</style>\n",
              "<table border=\"1\" class=\"dataframe\">\n",
              "  <thead>\n",
              "    <tr style=\"text-align: right;\">\n",
              "      <th></th>\n",
              "      <th>STATE_UT_NAME</th>\n",
              "      <th>ANNUAL</th>\n",
              "      <th>Jan-Feb</th>\n",
              "      <th>Mar-May</th>\n",
              "      <th>Jun-Sep</th>\n",
              "      <th>Oct-Dec</th>\n",
              "      <th>flood</th>\n",
              "    </tr>\n",
              "  </thead>\n",
              "  <tbody>\n",
              "    <tr>\n",
              "      <th>0</th>\n",
              "      <td>ANDAMAN And NICOBAR ISLANDS</td>\n",
              "      <td>2805.2</td>\n",
              "      <td>165.2</td>\n",
              "      <td>540.7</td>\n",
              "      <td>1207.2</td>\n",
              "      <td>892.1</td>\n",
              "      <td>0</td>\n",
              "    </tr>\n",
              "    <tr>\n",
              "      <th>1</th>\n",
              "      <td>ANDAMAN And NICOBAR ISLANDS</td>\n",
              "      <td>3015.7</td>\n",
              "      <td>69.7</td>\n",
              "      <td>483.5</td>\n",
              "      <td>1757.2</td>\n",
              "      <td>705.3</td>\n",
              "      <td>0</td>\n",
              "    </tr>\n",
              "    <tr>\n",
              "      <th>2</th>\n",
              "      <td>ANDAMAN And NICOBAR ISLANDS</td>\n",
              "      <td>2913.3</td>\n",
              "      <td>48.6</td>\n",
              "      <td>405.6</td>\n",
              "      <td>1884.4</td>\n",
              "      <td>574.7</td>\n",
              "      <td>0</td>\n",
              "    </tr>\n",
              "    <tr>\n",
              "      <th>3</th>\n",
              "      <td>ARUNACHAL PRADESH</td>\n",
              "      <td>3043.8</td>\n",
              "      <td>123.0</td>\n",
              "      <td>841.3</td>\n",
              "      <td>1848.5</td>\n",
              "      <td>231.0</td>\n",
              "      <td>0</td>\n",
              "    </tr>\n",
              "    <tr>\n",
              "      <th>4</th>\n",
              "      <td>ARUNACHAL PRADESH</td>\n",
              "      <td>4034.7</td>\n",
              "      <td>112.8</td>\n",
              "      <td>645.4</td>\n",
              "      <td>3008.4</td>\n",
              "      <td>268.1</td>\n",
              "      <td>1</td>\n",
              "    </tr>\n",
              "  </tbody>\n",
              "</table>\n",
              "</div>"
            ],
            "text/plain": [
              "                 STATE_UT_NAME  ANNUAL  Jan-Feb  Mar-May  Jun-Sep  Oct-Dec  \\\n",
              "0  ANDAMAN And NICOBAR ISLANDS  2805.2    165.2    540.7   1207.2    892.1   \n",
              "1  ANDAMAN And NICOBAR ISLANDS  3015.7     69.7    483.5   1757.2    705.3   \n",
              "2  ANDAMAN And NICOBAR ISLANDS  2913.3     48.6    405.6   1884.4    574.7   \n",
              "3            ARUNACHAL PRADESH  3043.8    123.0    841.3   1848.5    231.0   \n",
              "4            ARUNACHAL PRADESH  4034.7    112.8    645.4   3008.4    268.1   \n",
              "\n",
              "   flood  \n",
              "0      0  \n",
              "1      0  \n",
              "2      0  \n",
              "3      0  \n",
              "4      1  "
            ]
          },
          "execution_count": 12,
          "metadata": {},
          "output_type": "execute_result"
        }
      ],
      "source": [
        "data.head()"
      ]
    },
    {
      "cell_type": "code",
      "execution_count": null,
      "metadata": {
        "id": "jhDojK-RgqlQ"
      },
      "outputs": [],
      "source": [
        "from sklearn.preprocessing import LabelEncoder\n",
        "\n",
        "var_mod=[\"STATE_UT_NAME\"]\n",
        "le = LabelEncoder()\n",
        "for i in var_mod:\n",
        "    data[i] = le.fit_transform(data[i]).astype(int)"
      ]
    },
    {
      "cell_type": "code",
      "execution_count": null,
      "metadata": {
        "id": "Xju0upaEgqlR",
        "outputId": "5490bd26-eca1-441a-a6bb-c3c90e43b587"
      },
      "outputs": [
        {
          "data": {
            "text/html": [
              "<div>\n",
              "<style scoped>\n",
              "    .dataframe tbody tr th:only-of-type {\n",
              "        vertical-align: middle;\n",
              "    }\n",
              "\n",
              "    .dataframe tbody tr th {\n",
              "        vertical-align: top;\n",
              "    }\n",
              "\n",
              "    .dataframe thead th {\n",
              "        text-align: right;\n",
              "    }\n",
              "</style>\n",
              "<table border=\"1\" class=\"dataframe\">\n",
              "  <thead>\n",
              "    <tr style=\"text-align: right;\">\n",
              "      <th></th>\n",
              "      <th>STATE_UT_NAME</th>\n",
              "      <th>ANNUAL</th>\n",
              "      <th>Jan-Feb</th>\n",
              "      <th>Mar-May</th>\n",
              "      <th>Jun-Sep</th>\n",
              "      <th>Oct-Dec</th>\n",
              "      <th>flood</th>\n",
              "    </tr>\n",
              "  </thead>\n",
              "  <tbody>\n",
              "    <tr>\n",
              "      <th>0</th>\n",
              "      <td>0</td>\n",
              "      <td>2805.2</td>\n",
              "      <td>165.2</td>\n",
              "      <td>540.7</td>\n",
              "      <td>1207.2</td>\n",
              "      <td>892.1</td>\n",
              "      <td>0</td>\n",
              "    </tr>\n",
              "    <tr>\n",
              "      <th>1</th>\n",
              "      <td>0</td>\n",
              "      <td>3015.7</td>\n",
              "      <td>69.7</td>\n",
              "      <td>483.5</td>\n",
              "      <td>1757.2</td>\n",
              "      <td>705.3</td>\n",
              "      <td>0</td>\n",
              "    </tr>\n",
              "    <tr>\n",
              "      <th>2</th>\n",
              "      <td>0</td>\n",
              "      <td>2913.3</td>\n",
              "      <td>48.6</td>\n",
              "      <td>405.6</td>\n",
              "      <td>1884.4</td>\n",
              "      <td>574.7</td>\n",
              "      <td>0</td>\n",
              "    </tr>\n",
              "    <tr>\n",
              "      <th>3</th>\n",
              "      <td>2</td>\n",
              "      <td>3043.8</td>\n",
              "      <td>123.0</td>\n",
              "      <td>841.3</td>\n",
              "      <td>1848.5</td>\n",
              "      <td>231.0</td>\n",
              "      <td>0</td>\n",
              "    </tr>\n",
              "    <tr>\n",
              "      <th>4</th>\n",
              "      <td>2</td>\n",
              "      <td>4034.7</td>\n",
              "      <td>112.8</td>\n",
              "      <td>645.4</td>\n",
              "      <td>3008.4</td>\n",
              "      <td>268.1</td>\n",
              "      <td>1</td>\n",
              "    </tr>\n",
              "  </tbody>\n",
              "</table>\n",
              "</div>"
            ],
            "text/plain": [
              "   STATE_UT_NAME  ANNUAL  Jan-Feb  Mar-May  Jun-Sep  Oct-Dec  flood\n",
              "0              0  2805.2    165.2    540.7   1207.2    892.1      0\n",
              "1              0  3015.7     69.7    483.5   1757.2    705.3      0\n",
              "2              0  2913.3     48.6    405.6   1884.4    574.7      0\n",
              "3              2  3043.8    123.0    841.3   1848.5    231.0      0\n",
              "4              2  4034.7    112.8    645.4   3008.4    268.1      1"
            ]
          },
          "execution_count": 14,
          "metadata": {},
          "output_type": "execute_result"
        }
      ],
      "source": [
        "#print first 5 values\n",
        "data.head()"
      ]
    },
    {
      "cell_type": "code",
      "execution_count": null,
      "metadata": {
        "id": "cQ2k3EregqlR"
      },
      "outputs": [],
      "source": [
        "#According to the cross-validated MCC scores, the random forest is the best-performing model, so now let's evaluate its performance on the test set.\n",
        "from sklearn.metrics import confusion_matrix, classification_report, matthews_corrcoef, cohen_kappa_score, accuracy_score, average_precision_score, roc_auc_score"
      ]
    },
    {
      "cell_type": "code",
      "execution_count": null,
      "metadata": {
        "id": "PoWCTTo2gqlS"
      },
      "outputs": [],
      "source": [
        "X = data.drop(labels='flood', axis=1)\n",
        "#Response variable\n",
        "y = data.loc[:,'flood']    "
      ]
    },
    {
      "cell_type": "code",
      "execution_count": null,
      "metadata": {
        "id": "gRZxwyTHgqlT"
      },
      "outputs": [],
      "source": [
        "#We'll use a test size of 30%. We also stratify the split on the response variable, which is very important to do because there are so few fraudulent transactions.\n",
        "from sklearn.model_selection import train_test_split\n",
        "X_train, X_test, y_train, y_test = train_test_split(X, y, test_size=0.3, random_state=1, stratify=y)"
      ]
    },
    {
      "cell_type": "markdown",
      "metadata": {
        "id": "Fs-5AqV2gqlT"
      },
      "source": [
        "Support Vector Machines:"
      ]
    },
    {
      "cell_type": "code",
      "execution_count": null,
      "metadata": {
        "id": "Lrx7FwZKgqlV",
        "outputId": "ab4c78da-6fb6-46ad-9c75-00144e2d92bf"
      },
      "outputs": [
        {
          "name": "stdout",
          "output_type": "stream",
          "text": [
            "\n",
            "Classification report of Support Vector Machines Results:\n",
            "\n",
            "              precision    recall  f1-score   support\n",
            "\n",
            "           0       1.00      0.15      0.26        80\n",
            "           1       0.62      1.00      0.77       113\n",
            "\n",
            "    accuracy                           0.65       193\n",
            "   macro avg       0.81      0.57      0.51       193\n",
            "weighted avg       0.78      0.65      0.56       193\n",
            "\n",
            "Accuracy result of Support Vector Machines is: 64.76683937823834\n",
            "\n",
            "Confusion Matrix result of Support Vector Machines is:\n",
            " [[ 12  68]\n",
            " [  0 113]]\n",
            "\n",
            "Sensitivity :  0.15\n",
            "\n",
            "Specificity :  1.0\n",
            "\n",
            "Cross validation test results of accuracy:\n",
            "[0.51937984 0.578125   0.5859375  0.6015625  0.7421875 ]\n",
            "\n",
            "Accuracy result of Support Vector Machine is: 60.5438468992248\n"
          ]
        },
        {
          "data": {
            "image/png": "[encoded data removed]",
            "text/plain": [
              "<Figure size 360x360 with 1 Axes>"
            ]
          },
          "metadata": {
            "needs_background": "light"
          },
          "output_type": "display_data"
        }
      ],
      "source": [
        "from sklearn.svm import SVC\n",
        "from sklearn.metrics import accuracy_score, confusion_matrix\n",
        "from sklearn.model_selection import cross_val_score\n",
        "\n",
        "\n",
        "s = SVC()\n",
        "\n",
        "s.fit(X_train,y_train)\n",
        "\n",
        "predicts = s.predict(X_test)\n",
        "\n",
        "print(\"\")\n",
        "print('Classification report of Support Vector Machines Results:')\n",
        "print(\"\")\n",
        "\n",
        "print(classification_report(y_test,predicts))\n",
        "x = (accuracy_score(y_test,predicts)*100)\n",
        "\n",
        "print('Accuracy result of Support Vector Machines is:', x)\n",
        "print(\"\")\n",
        "cm2=confusion_matrix(y_test,predicts)\n",
        "print('Confusion Matrix result of Support Vector Machines is:\\n',cm2)\n",
        "print(\"\")\n",
        "sensitivity1 = cm2[0,0]/(cm2[0,0]+cm2[0,1])\n",
        "print('Sensitivity : ', sensitivity1 )\n",
        "print(\"\")\n",
        "specificity1 = cm2[1,1]/(cm2[1,0]+cm2[1,1])\n",
        "print('Specificity : ', specificity1)\n",
        "print(\"\")\n",
        "\n",
        "accuracy = cross_val_score(s, X, y, scoring='accuracy')\n",
        "print('Cross validation test results of accuracy:')\n",
        "print(accuracy)\n",
        "#get the mean of each fold \n",
        "print(\"\")\n",
        "print(\"Accuracy result of Support Vector Machine is:\",accuracy.mean() * 100)\n",
        "S=accuracy.mean() * 100\n",
        "\n",
        "\n",
        "\n",
        "\n",
        "\n",
        "def graph():\n",
        "    import matplotlib.pyplot as plt\n",
        "    data=[S]\n",
        "    alg=\"Support Vector Machine\"\n",
        "    plt.figure(figsize=(5,5))\n",
        "    b=plt.bar(alg,data,color=(\"b\"))\n",
        "    plt.title(\"Accuracy comparison of Diabetes\")\n",
        "    plt.legend(b,data,fontsize=9)\n",
        "\n",
        "\n",
        "\n",
        "\n",
        "graph()\n"
      ]
    },
    {
      "cell_type": "code",
      "execution_count": null,
      "metadata": {
        "id": "luzIC1QpgqlX",
        "outputId": "29278e30-0a2c-4aca-877b-baabecc52dc3"
      },
      "outputs": [
        {
          "name": "stdout",
          "output_type": "stream",
          "text": [
            "True Positive : 113\n",
            "True Negative : 0\n",
            "False Positive : 68\n",
            "False Negative : 12\n",
            "\n",
            "True Positive Rate : 0.904\n",
            "True Negative Rate : 0.0\n",
            "False Positive Rate : 1.0\n",
            "False Negative Rate : 0.096\n",
            "\n",
            "Positive Predictive Value : 0.6243093922651933\n",
            "Negative predictive value : 0.0\n",
            "[[ 12  68]\n",
            " [  0 113]]\n"
          ]
        },
        {
          "data": {
            "image/png": "[encoded data removed]",
            "text/plain": [
              "<Figure size 432x288 with 2 Axes>"
            ]
          },
          "metadata": {
            "needs_background": "light"
          },
          "output_type": "display_data"
        }
      ],
      "source": [
        "TN = cm2[1][0]\n",
        "FN = cm2[0][0]\n",
        "TP = cm2[1][1]\n",
        "FP = cm2[0][1]\n",
        "print(\"True Positive :\",TP)\n",
        "print(\"True Negative :\",TN)\n",
        "print(\"False Positive :\",FP)\n",
        "print(\"False Negative :\",FN)\n",
        "print(\"\")\n",
        "TPR = TP/(TP+FN)\n",
        "TNR = TN/(TN+FP)\n",
        "FPR = FP/(FP+TN)\n",
        "FNR = FN/(TP+FN)\n",
        "print(\"True Positive Rate :\",TPR)\n",
        "print(\"True Negative Rate :\",TNR)\n",
        "print(\"False Positive Rate :\",FPR)\n",
        "print(\"False Negative Rate :\",FNR)\n",
        "print(\"\")\n",
        "PPV = TP/(TP+FP)\n",
        "NPV = TN/(TN+FN)\n",
        "print(\"Positive Predictive Value :\",PPV)\n",
        "print(\"Negative predictive value :\",NPV)\n",
        "\n",
        "\n",
        "cm2=confusion_matrix(y_test, predicts)\n",
        "print(cm2)\n",
        "sns.heatmap(cm2/n.sum(cm2), annot=True, cmap = 'Blues', annot_kws={\"size\": 16}, fmt='.2%',)\n",
        "plt.show()"
      ]
    },
    {
      "cell_type": "code",
      "execution_count": null,
      "metadata": {
        "id": "TSUWvNNBgqlY"
      },
      "outputs": [],
      "source": [
        ""
      ]
    }
  ],
  "metadata": {
    "kernelspec": {
      "display_name": "Python 3",
      "language": "python",
      "name": "python3"
    },
    "language_info": {
      "codemirror_mode": {
        "name": "ipython",
        "version": 3
      },
      "file_extension": ".py",
      "mimetype": "text/x-python",
      "name": "python",
      "nbconvert_exporter": "python",
      "pygments_lexer": "ipython3",
      "version": "3.8.5"
    },
    "colab": {
      "name": "Untitled_6.ipynb",
      "provenance": []
    }
  },
  "nbformat": 4,
  "nbformat_minor": 0
}